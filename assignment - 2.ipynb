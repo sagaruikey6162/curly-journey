{
 "cells": [
  {
   "cell_type": "markdown",
   "id": "249ec996",
   "metadata": {},
   "source": [
    "## 1.What are the two values of the Boolean data type? How do you write them?"
   ]
  },
  {
   "cell_type": "markdown",
   "id": "8d9c1c43",
   "metadata": {},
   "source": [
    "The Boolean data type has two values: True and False. These values are written with an uppercase \"T\" and \"F\" respectively.\n",
    "\n",
    "Here is an example of how you can use Boolean values in a program:"
   ]
  },
  {
   "cell_type": "code",
   "execution_count": 1,
   "id": "332d8e0b",
   "metadata": {},
   "outputs": [
    {
     "name": "stdout",
     "output_type": "stream",
     "text": [
      "x is True\n",
      "y is False\n"
     ]
    }
   ],
   "source": [
    "x = True\n",
    "y = False\n",
    "\n",
    "if x:\n",
    "    print(\"x is True\")\n",
    "else:\n",
    "    print(\"x is False\")\n",
    "\n",
    "if y:\n",
    "    print(\"y is True\")\n",
    "else:\n",
    "    print(\"y is False\")\n"
   ]
  },
  {
   "cell_type": "markdown",
   "id": "ff320201",
   "metadata": {},
   "source": [
    "## 2. What are the three different types of Boolean operators?"
   ]
  },
  {
   "cell_type": "markdown",
   "id": "089ce751",
   "metadata": {},
   "source": [
    "There are three Boolean operators in most programming languages: and, or, and not. These operators are used to perform logical operations on Boolean values.\n",
    "\n",
    "Here is a brief explanation of each operator:\n",
    "\n",
    "* `and`: The `and` operator is used to check if both operands are `True`. If both operands are `True`, the `and` operator returns `True`. If either operand is `False`, the and operator returns `False`.\n",
    "\n",
    "* `or`: The `or` operator is used to check if at least one of the operands is `True`. If either operand is `True`, the or operator returns `True`. If both operands are `False`, the or operator returns `False`.\n",
    "\n",
    "* not: The `not` operator is used to negate a Boolean value. If the operand is `True`, the `not` operator returns `False`. If the operand is `False`, the `not` operator returns `True`.\n",
    "\n",
    "Here is an example of how you can use these operators in a program:"
   ]
  },
  {
   "cell_type": "code",
   "execution_count": 2,
   "id": "bf76d13b",
   "metadata": {},
   "outputs": [
    {
     "name": "stdout",
     "output_type": "stream",
     "text": [
      "x and y are not both True\n",
      "x or y is True\n",
      "x is True\n"
     ]
    }
   ],
   "source": [
    "x = True\n",
    "y = False\n",
    "\n",
    "# Using the 'and' operator\n",
    "if x and y:\n",
    "    print(\"x and y are both True\")\n",
    "else:\n",
    "    print(\"x and y are not both True\")\n",
    "\n",
    "# Using the 'or' operator\n",
    "if x or y:\n",
    "    print(\"x or y is True\")\n",
    "else:\n",
    "    print(\"x and y are both False\")\n",
    "\n",
    "# Using the 'not' operator\n",
    "if not x:\n",
    "    print(\"x is False\")\n",
    "else:\n",
    "    print(\"x is True\")\n"
   ]
  },
  {
   "cell_type": "markdown",
   "id": "714ad8bd",
   "metadata": {},
   "source": [
    "## 3. Make a list of each Boolean operator&#39;s truth tables (i.e. every possible combination of Boolean values for the operator and what it evaluate )."
   ]
  },
  {
   "cell_type": "code",
   "execution_count": null,
   "id": "82886b0a",
   "metadata": {},
   "outputs": [],
   "source": [
    "Here are the truth tables for each of the Boolean operators:\n",
    "\n",
    "# AND (&&)\n",
    "\n",
    "p\tq\tp && q\n",
    "T\tT\tT\n",
    "T\tF\tF\n",
    "F\tT\tF\n",
    "F\tF\tF\n",
    "\n",
    "# OR (||)\n",
    "\n",
    "| p | q | p || q |\n",
    "|---|---|--------|\n",
    "| T | T | T |\n",
    "| T | F | T |\n",
    "| F | T | T |\n",
    "| F | F | F |\n",
    "\n",
    "# NOT (!)\n",
    "\n",
    "p\t!p\n",
    "T\tF\n",
    "F\tT\n",
    "\n",
    "# XOR (Exclusive OR)\n",
    "\n",
    "p\tq\tp XOR q\n",
    "T\tT\tF\n",
    "T\tF\tT\n",
    "F\tT\tT\n",
    "F\tF\tF"
   ]
  },
  {
   "cell_type": "markdown",
   "id": "ddf61c68",
   "metadata": {},
   "source": [
    "## 4. What are the values of the following expressions?"
   ]
  },
  {
   "cell_type": "markdown",
   "id": "76a745ac",
   "metadata": {},
   "source": [
    "* The first expression, (5 > 4) and (3 == 5), would be evaluated as True and False, which is False.\n",
    "\n",
    "* The second expression, not (5 > 4), would be evaluated as not True, which is False.\n",
    "\n",
    "* The third expression, (5 > 4) or (3 == 5), would be evaluated as True or False, which is True.\n",
    "\n",
    "* The fourth expression, not ((5 > 4) or (3 == 5)), would be evaluated as not (True or False), which is not True, which is False.\n",
    "\n",
    "* The fifth expression, (True and True) and (True == False), would be evaluated as True and False, which is False.\n",
    "\n",
    "* The sixth expression, (not False) or (not True), would be evaluated as True or False, which is True.\n",
    "\n",
    "\n",
    "\n"
   ]
  },
  {
   "cell_type": "markdown",
   "id": "7e342a53",
   "metadata": {},
   "source": [
    "## 5. What are the six comparison operators?"
   ]
  },
  {
   "cell_type": "markdown",
   "id": "d08490b9",
   "metadata": {},
   "source": [
    "There are six comparison operators in Python:\n",
    "`\n",
    "* `==` (equal to): This operator checks if two values are equal. For example: `3 == 3` is `True`, `3 == 4` is `False`.\n",
    "\n",
    "* `!=` (not equal to): This operator checks if two values are not equal. For example: `3 != 4` is `True`, `3 != 3` is `False`.\n",
    "\n",
    "* `>` (greater than): This operator checks if the value on the left is greater than the value on the right. For example: `4 > 3` is `True`, `3 > 4` is `False`.\n",
    "\n",
    "* `<` (less than): This operator checks if the value on the left is less than the value on the right. For example: `3 < 4` is `True`, `4 < 3` is `False`.\n",
    "\n",
    "* `>=` (greater than or equal to): This operator checks if the value on the left is greater than or equal to the value on the right. For example: `4 >= 4` is `True`, `3 >= 4` is `False`.\n",
    "\n",
    "* `<=` (less than or equal to): This operator checks if the value on the left is less than or equal to the value on the right. For example: `3 <= 4` is `True`, `4 <= 3` is `False`.\n",
    "\n",
    "These operators can be used to compare numerical values, strings, and other types of data in Python.\n",
    "\n",
    "\n",
    "\n"
   ]
  },
  {
   "cell_type": "markdown",
   "id": "8dafcf9b",
   "metadata": {},
   "source": [
    "## 6. How do you tell the difference between the equal to and assignment operators?Describe a condition and when you would use one."
   ]
  },
  {
   "cell_type": "markdown",
   "id": "067e9258",
   "metadata": {},
   "source": [
    "In many programming languages, the equal sign (=) is used for assignment, while the double equal sign (==) is used for comparison.\n",
    "\n",
    "The assignment operator (=) is used to assign a value to a variable. For example:\n",
    "\n"
   ]
  },
  {
   "cell_type": "code",
   "execution_count": 12,
   "id": "7e2047c3",
   "metadata": {},
   "outputs": [],
   "source": [
    "x = 5\n"
   ]
  },
  {
   "cell_type": "markdown",
   "id": "6c4a4ba9",
   "metadata": {},
   "source": [
    "This statement assigns the value 5 to the variable x.\n",
    "\n",
    "On the other hand, the comparison operator (==) is used to compare the values of two variables or expressions. It returns a boolean value indicating whether the two values are equal or not. For example:\n",
    "\n",
    "\n",
    "\n"
   ]
  },
  {
   "cell_type": "code",
   "execution_count": 13,
   "id": "3fc2a497",
   "metadata": {},
   "outputs": [
    {
     "name": "stdout",
     "output_type": "stream",
     "text": [
      "x is not equal to y\n"
     ]
    }
   ],
   "source": [
    "\n",
    "x = 5\n",
    "y = 6\n",
    "\n",
    "if x == y:\n",
    "    print(\"x is equal to y\")\n",
    "else:\n",
    "    print(\"x is not equal to y\")\n",
    "\n",
    "\n",
    "\n"
   ]
  },
  {
   "cell_type": "markdown",
   "id": "32d1c53e",
   "metadata": {},
   "source": [
    "In this case, the comparison operator will return False, because x is not equal to y.\n",
    "\n",
    "So, to summarize, you would use the assignment operator (=) to assign a value to a variable, and you would use the comparison operator (==) to compare the values of two variables or expressions."
   ]
  },
  {
   "cell_type": "markdown",
   "id": "c6a5e5e6",
   "metadata": {},
   "source": [
    "# 7. Identify the three blocks in this code:"
   ]
  },
  {
   "cell_type": "code",
   "execution_count": 14,
   "id": "d59f1fa9",
   "metadata": {},
   "outputs": [
    {
     "name": "stdout",
     "output_type": "stream",
     "text": [
      "ham\n",
      "spam\n",
      "spam\n"
     ]
    }
   ],
   "source": [
    "spam = 0\n",
    "if spam == 10:\n",
    "    print('eggs')\n",
    "if spam > 5:\n",
    "    print(\"bacon\")\n",
    "else:\n",
    "    print('ham')\n",
    "    print('spam')\n",
    "    print('spam')"
   ]
  },
  {
   "cell_type": "markdown",
   "id": "c0c82570",
   "metadata": {},
   "source": [
    "In this code snippet, the value of the variable `spam` is 0. Therefore, the first `if` statement will not be executed, because 0 is not equal to 10.\n",
    "\n",
    "The second `if` statement will also not be executed, because 0 is not greater than 5.\n",
    "\n",
    "As a result, the `else` block will be executed"
   ]
  },
  {
   "cell_type": "markdown",
   "id": "88c7d480",
   "metadata": {},
   "source": [
    "### 8. Write code that prints Hello if 1 is stored in spam, prints Howdy if 2 is stored in spam, and prints Greetings! if anything else is stored in spam."
   ]
  },
  {
   "cell_type": "markdown",
   "id": "8161f17a",
   "metadata": {},
   "source": [
    "Here is one way to write the code using an `if-elif-else` statement:"
   ]
  },
  {
   "cell_type": "code",
   "execution_count": 16,
   "id": "90ac21a3",
   "metadata": {},
   "outputs": [
    {
     "name": "stdout",
     "output_type": "stream",
     "text": [
      "Howdy\n"
     ]
    }
   ],
   "source": [
    "spam = 2\n",
    "\n",
    "if spam == 1:\n",
    "    print(\"Hello\")\n",
    "elif spam == 2:\n",
    "    print(\"Howdy\")\n",
    "else:\n",
    "    print(\"Greetings!\")\n"
   ]
  },
  {
   "cell_type": "code",
   "execution_count": 17,
   "id": "5c131a8d",
   "metadata": {},
   "outputs": [
    {
     "name": "stdout",
     "output_type": "stream",
     "text": [
      "Hello\n"
     ]
    }
   ],
   "source": [
    "spam = 1\n",
    "\n",
    "if spam == 1:\n",
    "    print(\"Hello\")\n",
    "elif spam == 2:\n",
    "    print(\"Howdy\")\n",
    "else:\n",
    "    print(\"Greetings!\")\n"
   ]
  },
  {
   "cell_type": "code",
   "execution_count": 18,
   "id": "aa669647",
   "metadata": {},
   "outputs": [
    {
     "name": "stdout",
     "output_type": "stream",
     "text": [
      "Greetings!\n"
     ]
    }
   ],
   "source": [
    "spam = 'sagar'\n",
    "\n",
    "if spam == 1:\n",
    "    print(\"Hello\")\n",
    "elif spam == 2:\n",
    "    print(\"Howdy\")\n",
    "else:\n",
    "    print(\"Greetings!\")\n"
   ]
  },
  {
   "cell_type": "markdown",
   "id": "56c381d2",
   "metadata": {},
   "source": [
    "This code will first check if the value of `spam` is 1. If it is, it will print \"Hello\". If it is not, it will check if the value of `spam` is 2. If it is, it will print \"Howdy\". If it is not, it will execute the `else` block and print \"Greetings!\".\n",
    "\n",
    "In this case, the value of `spam` is 2, so the code will print \"Howdy\"."
   ]
  },
  {
   "cell_type": "markdown",
   "id": "04deaad6",
   "metadata": {},
   "source": [
    "### 9.If your programme is stuck in an endless loop, what keys you’ll press?"
   ]
  },
  {
   "cell_type": "markdown",
   "id": "e8db580b",
   "metadata": {},
   "source": [
    "If your program is stuck in an endless loop, you can try the following options to stop the program:\n",
    "\n",
    "1. Press the \"Stop\" or \"Break\" button on your development environment or IDE (Integrated Development Environment). This will usually interrupt the program and stop it from running.\n",
    "\n",
    "2. Press the \"Ctrl\" + \"C\" keys on your keyboard. This will usually interrupt the program and stop it from running.\n",
    "\n",
    "3. Close the window or terminal where the program is running. This will stop the program and terminate it.\n",
    "\n",
    "4. If the program is running on a server or in the cloud, you may need to use a command or function provided by the platform to stop the program or terminate the process.\n",
    "\n",
    "It's important to note that these methods may not work in all cases, depending on the specific circumstances and the programming language being used. In some cases, you may need to use more advanced techniques or tools to stop a stuck program."
   ]
  },
  {
   "cell_type": "markdown",
   "id": "73d8837c",
   "metadata": {},
   "source": [
    "### 10. How can you tell the difference between break and continue?"
   ]
  },
  {
   "cell_type": "markdown",
   "id": "550af057",
   "metadata": {},
   "source": [
    "In many programming languages, `break` and `continue` are keywords that are used to control the flow of a loop. They are often used inside the body of a loop, such as a `for` or `while` loop.\n",
    "\n",
    "The `break` statement is used to exit a loop early, before it has completed all of its iterations. When a `break` statement is encountered inside a loop, the loop is immediately terminated and the program continues with the next statement after the loop.\n",
    "\n",
    "Here is an example of using the `break` statement in a `while` loop:"
   ]
  },
  {
   "cell_type": "code",
   "execution_count": 19,
   "id": "3c56bbb1",
   "metadata": {},
   "outputs": [
    {
     "name": "stdout",
     "output_type": "stream",
     "text": [
      "1\n",
      "2\n",
      "3\n",
      "4\n",
      "5\n",
      "6\n",
      "7\n",
      "8\n",
      "9\n",
      "10\n"
     ]
    }
   ],
   "source": [
    "i = 0\n",
    "while True:\n",
    "    i += 1\n",
    "    if i > 10:\n",
    "        break\n",
    "    print(i)\n"
   ]
  },
  {
   "cell_type": "markdown",
   "id": "a3c0538b",
   "metadata": {},
   "source": [
    "This code will print the numbers 1 through 10, and then exit the loop when `i` becomes greater than 10.\n",
    "\n",
    "On the other hand, the `continue` statement is used to skip the rest of the current iteration of a loop and move on to the next iteration. When a `continue` statement is encountered inside a loop, the program skips the rest of the current iteration and moves on to the next one.\n",
    "\n",
    "Here is an example of using the `continue` statement in a `for` loop:"
   ]
  },
  {
   "cell_type": "code",
   "execution_count": 20,
   "id": "c55b3ce8",
   "metadata": {},
   "outputs": [
    {
     "name": "stdout",
     "output_type": "stream",
     "text": [
      "1\n",
      "3\n",
      "5\n",
      "7\n",
      "9\n"
     ]
    }
   ],
   "source": [
    "for i in range(1, 11):\n",
    "    if i % 2 == 0:\n",
    "        continue\n",
    "    print(i)\n"
   ]
  },
  {
   "cell_type": "markdown",
   "id": "2933c4b6",
   "metadata": {},
   "source": [
    "This code will print the odd numbers from 1 to 10, because the `continue` statement skips the even numbers and moves on to the next iteration.\n",
    "\n",
    "To summarize, the `break` statement is used to exit a loop early, while the `continue` statement is used to skip the rest of the current iteration and move on to the next one."
   ]
  },
  {
   "cell_type": "markdown",
   "id": "7d519a96",
   "metadata": {},
   "source": [
    "### 11. In a for loop, what is the difference between range(10), range(0, 10), and range(0, 10, 1)?"
   ]
  },
  {
   "cell_type": "markdown",
   "id": "744399d5",
   "metadata": {},
   "source": [
    " the range() function is used to generate a sequence of numbers. It has three arguments: `start`, `stop`, and `step`.\n",
    "        \n",
    "* `range(stop)` generates a sequence of numbers from 0 to stop - 1.\n",
    "* range(start, stop)` generates a sequence of numbers from start to stop - 1.\n",
    "* `range(start, stop, step)` generates a sequence of numbers from start to stop - 1, incrementing by step each time.\n",
    "\n",
    "Here are some examples of using the range() function in a for loop:"
   ]
  },
  {
   "cell_type": "code",
   "execution_count": 21,
   "id": "abb9b51f",
   "metadata": {},
   "outputs": [
    {
     "name": "stdout",
     "output_type": "stream",
     "text": [
      "0\n",
      "1\n",
      "2\n",
      "3\n",
      "4\n",
      "5\n",
      "6\n",
      "7\n",
      "8\n",
      "9\n",
      "0\n",
      "1\n",
      "2\n",
      "3\n",
      "4\n",
      "5\n",
      "6\n",
      "7\n",
      "8\n",
      "9\n",
      "0\n",
      "1\n",
      "2\n",
      "3\n",
      "4\n",
      "5\n",
      "6\n",
      "7\n",
      "8\n",
      "9\n",
      "0\n",
      "2\n",
      "4\n",
      "6\n",
      "8\n"
     ]
    }
   ],
   "source": [
    "# range(10) generates a sequence from 0 to 9\n",
    "for i in range(10):\n",
    "    print(i)\n",
    "\n",
    "# range(0, 10) generates a sequence from 0 to 9\n",
    "for i in range(0, 10):\n",
    "    print(i)\n",
    "\n",
    "# range(0, 10, 1) generates a sequence from 0 to 9\n",
    "for i in range(0, 10, 1):\n",
    "    print(i)\n",
    "\n",
    "# range(0, 10, 2) generates a sequence from 0 to 8, incrementing by 2 each time\n",
    "for i in range(0, 10, 2):\n",
    "    print(i)\n"
   ]
  },
  {
   "cell_type": "markdown",
   "id": "abcb10b6",
   "metadata": {},
   "source": [
    "In all of these examples, the `for` loop will iterate 10 times, printing the numbers 0 through 9. The only difference is the way the sequence is generated using the `range()` function."
   ]
  },
  {
   "cell_type": "markdown",
   "id": "243a33ef",
   "metadata": {},
   "source": [
    "### 12. Write a short program that prints the numbers 1 to 10 using a for loop. Then write an equivalent program that prints the numbers 1 to 10 using a while loop."
   ]
  },
  {
   "cell_type": "markdown",
   "id": "24320d93",
   "metadata": {},
   "source": [
    "Here is a program that uses a `for` loop to print the numbers 1 to 10:"
   ]
  },
  {
   "cell_type": "code",
   "execution_count": 22,
   "id": "987f6ced",
   "metadata": {},
   "outputs": [
    {
     "name": "stdout",
     "output_type": "stream",
     "text": [
      "1\n",
      "2\n",
      "3\n",
      "4\n",
      "5\n",
      "6\n",
      "7\n",
      "8\n",
      "9\n",
      "10\n"
     ]
    }
   ],
   "source": [
    "for i in range(1, 11):\n",
    "    print(i)\n"
   ]
  },
  {
   "cell_type": "markdown",
   "id": "ab20b07b",
   "metadata": {},
   "source": [
    " here is an equivalent program that uses a `while` loop to print the same numbers:"
   ]
  },
  {
   "cell_type": "code",
   "execution_count": 23,
   "id": "10c2524b",
   "metadata": {},
   "outputs": [
    {
     "name": "stdout",
     "output_type": "stream",
     "text": [
      "1\n",
      "2\n",
      "3\n",
      "4\n",
      "5\n",
      "6\n",
      "7\n",
      "8\n",
      "9\n",
      "10\n"
     ]
    }
   ],
   "source": [
    "i = 1\n",
    "while i <= 10:\n",
    "    print(i)\n",
    "    i += 1\n"
   ]
  },
  {
   "cell_type": "markdown",
   "id": "91a8e5a9",
   "metadata": {},
   "source": [
    "### 13. If you had a function named bacon() inside a module named spam, how would you call it after importing spam?"
   ]
  },
  {
   "cell_type": "markdown",
   "id": "1b64f874",
   "metadata": {},
   "source": [
    "To call the `bacon()` function from a module named `spam`, you would need to first import the `spam` module. You can do this using the `import` statement:"
   ]
  },
  {
   "cell_type": "code",
   "execution_count": null,
   "id": "e4f21289",
   "metadata": {},
   "outputs": [],
   "source": [
    "import spam\n"
   ]
  },
  {
   "cell_type": "markdown",
   "id": "7b8c6bba",
   "metadata": {},
   "source": [
    "This will import the entire spam module and make it available to your program.\n",
    "\n",
    "To call the bacon() function from the spam module, you can use the following syntax:"
   ]
  },
  {
   "cell_type": "code",
   "execution_count": null,
   "id": "190c46aa",
   "metadata": {},
   "outputs": [],
   "source": [
    "spam.bacon()\n"
   ]
  },
  {
   "cell_type": "markdown",
   "id": "ec6f023b",
   "metadata": {},
   "source": [
    "This will call the bacon() function from the spam module.\n",
    "\n",
    "Alternatively, you can also use the from keyword to import the bacon() function directly, like this:\n",
    "\n"
   ]
  },
  {
   "cell_type": "code",
   "execution_count": null,
   "id": "7a538380",
   "metadata": {},
   "outputs": [],
   "source": [
    "from spam import bacon\n",
    "\n",
    "bacon()\n"
   ]
  },
  {
   "cell_type": "markdown",
   "id": "a2119302",
   "metadata": {},
   "source": [
    "This will import the bacon() function from the spam module and make it available to your program directly, so you can call it using just the function name."
   ]
  },
  {
   "cell_type": "code",
   "execution_count": null,
   "id": "dcf87c1d",
   "metadata": {},
   "outputs": [],
   "source": []
  }
 ],
 "metadata": {
  "kernelspec": {
   "display_name": "Python 3 (ipykernel)",
   "language": "python",
   "name": "python3"
  },
  "language_info": {
   "codemirror_mode": {
    "name": "ipython",
    "version": 3
   },
   "file_extension": ".py",
   "mimetype": "text/x-python",
   "name": "python",
   "nbconvert_exporter": "python",
   "pygments_lexer": "ipython3",
   "version": "3.10.4"
  }
 },
 "nbformat": 4,
 "nbformat_minor": 5
}
